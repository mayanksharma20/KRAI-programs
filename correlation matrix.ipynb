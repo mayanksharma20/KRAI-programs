{
  "nbformat": 4,
  "nbformat_minor": 0,
  "metadata": {
    "colab": {
      "provenance": []
    },
    "kernelspec": {
      "name": "python3",
      "display_name": "Python 3"
    },
    "language_info": {
      "name": "python"
    }
  },
  "cells": [
    {
      "cell_type": "code",
      "execution_count": null,
      "metadata": {
        "colab": {
          "base_uri": "https://localhost:8080/"
        },
        "id": "_0tKBeNBtRf4",
        "outputId": "2c7b8b00-8ee8-4325-9048-6165af2fe0a6"
      },
      "outputs": [
        {
          "output_type": "stream",
          "name": "stdout",
          "text": [
            "[[1.         0.97665315]\n",
            " [0.97665315 1.        ]]\n"
          ]
        }
      ],
      "source": [
        "# Find the correlation matrix.\n",
        "\n",
        "import numpy as np\n",
        "# x= sales\n",
        "x=[215,325,185,332,406,522]\n",
        "\n",
        "# y= temperature\n",
        "y=[14.2 , 16.4 , 11.9 , 15.2 , 18.5 , 22.1 ]\n",
        "\n",
        "matrix=np.corrcoef(x,y)\n",
        "\n",
        "print(matrix)"
      ]
    },
    {
      "cell_type": "code",
      "source": [
        "# x=age\n",
        "x=[43,21,25,42,57,59]\n",
        "# y= glucose level\n",
        "y=[99,65,79,75,87,81]\n",
        "\n",
        "matrix=np.corrcoef(x,y)\n",
        "\n",
        "print(matrix)"
      ],
      "metadata": {
        "colab": {
          "base_uri": "https://localhost:8080/"
        },
        "id": "PmnYj9YEwDaP",
        "outputId": "67569cd6-5916-4c7e-f6a5-552c4ecc34b8"
      },
      "execution_count": null,
      "outputs": [
        {
          "output_type": "stream",
          "name": "stdout",
          "text": [
            "[[1.        0.5298089]\n",
            " [0.5298089 1.       ]]\n"
          ]
        }
      ]
    },
    {
      "cell_type": "code",
      "source": [
        "import pandas as pd\n",
        "data={\n",
        "      'x':[45,37,42,35,39],\n",
        "      'y':[38,31,26,28,33],\n",
        "      'z':[10,15,17,21,12]\n",
        "}\n",
        "\n",
        "dataframe=pd.DataFrame(data,columns=['x','y','z'])\n",
        "print(\"Data Frame is: \")\n",
        "print(dataframe)\n",
        "\n",
        "matrix=dataframe.corr()\n",
        "print(matrix)"
      ],
      "metadata": {
        "colab": {
          "base_uri": "https://localhost:8080/"
        },
        "id": "kA3iPDDuxKux",
        "outputId": "c0a52fee-44ce-4618-93bc-5901224f9af2"
      },
      "execution_count": null,
      "outputs": [
        {
          "output_type": "stream",
          "name": "stdout",
          "text": [
            "Data Frame is: \n",
            "    x   y   z\n",
            "0  45  38  10\n",
            "1  37  31  15\n",
            "2  42  26  17\n",
            "3  35  28  21\n",
            "4  39  33  12\n",
            "          x         y         z\n",
            "x  1.000000  0.518457 -0.701886\n",
            "y  0.518457  1.000000 -0.860941\n",
            "z -0.701886 -0.860941  1.000000\n"
          ]
        }
      ]
    },
    {
      "cell_type": "code",
      "source": [
        "import pandas as pd\n",
        "\n",
        "dataframe=pd.read_csv(\"/content/drive/MyDrive/KRAI/corr - Sheet1.csv\")\n",
        "print(\"Data Frame is: \")\n",
        "print(dataframe)\n",
        "\n",
        "matrix=dataframe.corr()\n",
        "print(matrix)"
      ],
      "metadata": {
        "colab": {
          "base_uri": "https://localhost:8080/"
        },
        "id": "KAiLybYO13RF",
        "outputId": "27c8c5ba-8678-436b-90a5-54a997d75d86"
      },
      "execution_count": null,
      "outputs": [
        {
          "output_type": "stream",
          "name": "stdout",
          "text": [
            "Data Frame is: \n",
            "         date  AVG Temp C   Ice Creamproduction\n",
            "0    1/1/2011          1.2                55942\n",
            "1    2/1/2011          1.8                61802\n",
            "2    3/1/2011          6.1                74616\n",
            "3    4/1/2011         11.1                74088\n",
            "4    5/1/2011         16.0                74980\n",
            "5    6/1/2011         20.4                75131\n",
            "6    7/1/2011         22.9                71229\n",
            "7    8/1/2011         22.2                77396\n",
            "8    9/1/2011         18.4                69286\n",
            "9   10/1/2011         12.6                59559\n",
            "10  11/1/2011          6.3                52314\n",
            "11  12/1/2011          1.4                50894\n",
            "                     AVG Temp C   Ice Creamproduction\n",
            "AVG Temp C              1.000000             0.718032\n",
            "Ice Creamproduction     0.718032             1.000000\n"
          ]
        },
        {
          "output_type": "stream",
          "name": "stderr",
          "text": [
            "<ipython-input-3-93db14ef3f25>:7: FutureWarning: The default value of numeric_only in DataFrame.corr is deprecated. In a future version, it will default to False. Select only valid columns or specify the value of numeric_only to silence this warning.\n",
            "  matrix=dataframe.corr()\n"
          ]
        }
      ]
    }
  ]
}