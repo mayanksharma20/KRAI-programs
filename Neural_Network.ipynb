{
  "nbformat": 4,
  "nbformat_minor": 0,
  "metadata": {
    "colab": {
      "provenance": []
    },
    "kernelspec": {
      "name": "python3",
      "display_name": "Python 3"
    },
    "language_info": {
      "name": "python"
    }
  },
  "cells": [
    {
      "cell_type": "code",
      "execution_count": null,
      "metadata": {
        "id": "qiPMxfuyNkbF"
      },
      "outputs": [],
      "source": [
        "#Method-1\n",
        "# Creating & Visualizing Neural Network for the given data.  (Use python)\n",
        "from keras.models import Sequential\n",
        "from keras.layers import Dense, Activation\n",
        "import numpy as np"
      ]
    },
    {
      "cell_type": "code",
      "source": [
        "# Use numpy arrays to store inputs (x) and outputs (y):\n",
        "x = np.array([[0,0], [0,1], [1,0], [1,1]])\n",
        "y = np.array([[0], [1], [1], [0]])\n",
        "\n",
        "model = Sequential()\n",
        "model.add(Dense(2, input_shape=(2,)))\n",
        "model.add(Activation('sigmoid'))\n",
        "model.add(Dense(1))\n",
        "model.add(Activation('sigmoid'))\n",
        "\n",
        "# Compile the model and calculate its accuracy:\n",
        "model.compile(loss='mean_squared_error', optimizer='sgd', metrics=['accuracy'])\n",
        "\n",
        "# Print a summary of the Keras model:\n",
        "model.summary()"
      ],
      "metadata": {
        "colab": {
          "base_uri": "https://localhost:8080/"
        },
        "id": "eevopfbpN97r",
        "outputId": "37f066d6-becf-48f0-c90f-b4c343cb8e44"
      },
      "execution_count": null,
      "outputs": [
        {
          "output_type": "stream",
          "name": "stdout",
          "text": [
            "Model: \"sequential\"\n",
            "_________________________________________________________________\n",
            " Layer (type)                Output Shape              Param #   \n",
            "=================================================================\n",
            " dense (Dense)               (None, 2)                 6         \n",
            "                                                                 \n",
            " activation (Activation)     (None, 2)                 0         \n",
            "                                                                 \n",
            " dense_1 (Dense)             (None, 1)                 3         \n",
            "                                                                 \n",
            " activation_1 (Activation)   (None, 1)                 0         \n",
            "                                                                 \n",
            "=================================================================\n",
            "Total params: 9 (36.00 Byte)\n",
            "Trainable params: 9 (36.00 Byte)\n",
            "Non-trainable params: 0 (0.00 Byte)\n",
            "_________________________________________________________________\n"
          ]
        }
      ]
    },
    {
      "cell_type": "code",
      "source": [
        "#Method-2\n",
        "#Create a Neural Network from Scratch\n",
        "# Import python libraries required in this example:\n",
        "import numpy as np\n",
        "from scipy.special import expit as activation_function\n",
        "from scipy.stats import truncnorm\n",
        "\n",
        "# DEFINE THE NETWORK\n",
        "\n",
        "# Generate random numbers within a truncated (bounded)\n",
        "# normal distribution:\n",
        "def truncated_normal(mean=0, sd=1, low=0, upp=10):\n",
        "    return truncnorm(\n",
        "        (low - mean) / sd, (upp - mean) / sd, loc=mean, scale=sd)\n",
        "\n",
        "# Create the ‘Nnetwork’ class and define its arguments:\n",
        "# Set the number of neurons/nodes for each layer\n",
        "# and initialize the weight matrices:\n",
        "class Nnetwork:\n",
        "\n",
        "    def __init__(self,\n",
        "                 no_of_in_nodes,\n",
        "                 no_of_out_nodes,\n",
        "                 no_of_hidden_nodes,\n",
        "                 learning_rate):\n",
        "        self.no_of_in_nodes = no_of_in_nodes\n",
        "        self.no_of_out_nodes = no_of_out_nodes\n",
        "        self.no_of_hidden_nodes = no_of_hidden_nodes\n",
        "        self.learning_rate = learning_rate\n",
        "        self.create_weight_matrices()\n",
        "\n",
        "    def create_weight_matrices(self):\n",
        "        \"\"\" A method to initialize the weight matrices of the neural network\"\"\"\n",
        "        rad = 1 / np.sqrt(self.no_of_in_nodes)\n",
        "        X = truncated_normal(mean=0, sd=1, low=-rad, upp=rad)\n",
        "        self.weights_in_hidden = X.rvs((self.no_of_hidden_nodes,\n",
        "                                       self.no_of_in_nodes))\n",
        "        rad = 1 / np.sqrt(self.no_of_hidden_nodes)\n",
        "        X = truncated_normal(mean=0, sd=1, low=-rad, upp=rad)\n",
        "        self.weights_hidden_out = X.rvs((self.no_of_out_nodes,\n",
        "                                        self.no_of_hidden_nodes))\n",
        "\n",
        "    def train(self, input_vector, target_vector):\n",
        "        pass # More work is needed to train the network\n",
        "\n",
        "    def run(self, input_vector):\n",
        "        \"\"\"\n",
        "        running the network with an input vector 'input_vector'.\n",
        "        'input_vector' can be tuple, list or ndarray\n",
        "        \"\"\"\n",
        "        # Turn the input vector into a column vector:\n",
        "        input_vector = np.array(input_vector, ndmin=2).T\n",
        "        # activation_function() implements the expit function,\n",
        "        # which is an implementation of the sigmoid function:\n",
        "        input_hidden = activation_function(self.weights_in_hidden @   input_vector)\n",
        "        output_vector = activation_function(self.weights_hidden_out @ input_hidden)\n",
        "        return output_vector\n",
        "\n",
        "# RUN THE NETWORK AND GET A RESULT\n",
        "\n",
        "# Initialize an instance of the class:\n",
        "simple_network = Nnetwork(no_of_in_nodes=2,\n",
        "                               no_of_out_nodes=2,\n",
        "                               no_of_hidden_nodes=4,\n",
        "                               learning_rate=0.6)\n",
        "\n",
        "# Run simple_network for arrays, lists and tuples with shape (2):\n",
        "# and get a result:\n",
        "simple_network.run([(3, 4)])\n"
      ],
      "metadata": {
        "colab": {
          "base_uri": "https://localhost:8080/"
        },
        "id": "KLGWc2hYORGG",
        "outputId": "e2546bf6-63c7-46b3-fd9d-b52fd1948105"
      },
      "execution_count": null,
      "outputs": [
        {
          "output_type": "execute_result",
          "data": {
            "text/plain": [
              "array([[0.39420718],\n",
              "       [0.50790498]])"
            ]
          },
          "metadata": {},
          "execution_count": 5
        }
      ]
    }
  ]
}